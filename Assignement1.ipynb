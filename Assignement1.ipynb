{
 "cells": [
  {
   "cell_type": "markdown",
   "id": "46f622ae-34e0-493f-b354-98c5a0c07553",
   "metadata": {},
   "source": [
    "1. Guido van Rossum"
   ]
  },
  {
   "cell_type": "markdown",
   "id": "40e16978-5bbe-4440-ab97-47c765d99c0a",
   "metadata": {},
   "source": [
    "2. Python is an interpreted programming language, supporting object-oriented, structured, and functional programming."
   ]
  },
  {
   "cell_type": "markdown",
   "id": "63bdab8a-a344-4d87-9d9c-e92a67e296bb",
   "metadata": {},
   "source": [
    "3. Yes "
   ]
  },
  {
   "cell_type": "markdown",
   "id": "9c02fb5b-77cb-4c5c-b99d-4fc88ac2f250",
   "metadata": {},
   "source": [
    "4. .py"
   ]
  },
  {
   "cell_type": "markdown",
   "id": "2c5c79d0-ffd1-45ea-a200-71b902b558da",
   "metadata": {},
   "source": [
    "5. Python is an interpreted language, which means the source code of a Python program is converted into bytecode that is then executed by the Python virtual machine."
   ]
  },
  {
   "cell_type": "markdown",
   "id": "75ce9862-da30-4f23-9907-ac59e9c0438a",
   "metadata": {},
   "source": [
    "6. a module, a function body, and a class definition."
   ]
  },
  {
   "cell_type": "markdown",
   "id": "898835a0-c4f5-481e-b61e-8471d1c9c526",
   "metadata": {},
   "source": [
    "7. \"##\""
   ]
  },
  {
   "cell_type": "markdown",
   "id": "a3b18fd7-5dcc-4957-8433-10a56b201ef3",
   "metadata": {},
   "source": [
    "8. sys. version"
   ]
  },
  {
   "cell_type": "markdown",
   "id": "ae6c7a2d-245e-4367-a4d1-14b66f5de33b",
   "metadata": {},
   "source": [
    "9. using a construct called lambda"
   ]
  },
  {
   "cell_type": "markdown",
   "id": "0e5516ee-f3de-4eef-9584-5cd5227578ad",
   "metadata": {},
   "source": [
    "10 . pip Install Packages"
   ]
  },
  {
   "cell_type": "markdown",
   "id": "f67b2319-e86a-4d66-846c-68ba6031e604",
   "metadata": {},
   "source": [
    "11. len(),upper()"
   ]
  },
  {
   "cell_type": "markdown",
   "id": "a7403ca7-686d-464e-9ee5-a523dce056bb",
   "metadata": {},
   "source": [
    "12. 79"
   ]
  },
  {
   "cell_type": "markdown",
   "id": "563efd50-5be0-4341-a0f3-e2fd5dd39d4e",
   "metadata": {},
   "source": [
    "13. Fast and more interactive and can access libraries "
   ]
  },
  {
   "cell_type": "markdown",
   "id": "e2a37bd3-1af4-4789-adf5-9a1770e2784a",
   "metadata": {},
   "source": [
    "14. Python uses the dynamic memory allocation which is managed by the Heap data structure"
   ]
  },
  {
   "cell_type": "markdown",
   "id": "2e0bf8c8-ae4b-4c30-8d42-122f68d3eb68",
   "metadata": {},
   "source": [
    "15.  Right-clicking This PC and going to Properties.\n",
    "Clicking on the Advanced system settings in the menu on the left.\n",
    "Clicking on the Environment Variables button o​n the bottom right.\n",
    "In the System variables section, selecting the Path variable and clicking on Edit."
   ]
  },
  {
   "cell_type": "code",
   "execution_count": null,
   "id": "a232504c-c780-48ea-bed6-c2f1bd0f736a",
   "metadata": {},
   "outputs": [],
   "source": [
    "16. Yes ,without indentation if else will n"
   ]
  }
 ],
 "metadata": {
  "kernelspec": {
   "display_name": "Python 3 (ipykernel)",
   "language": "python",
   "name": "python3"
  },
  "language_info": {
   "codemirror_mode": {
    "name": "ipython",
    "version": 3
   },
   "file_extension": ".py",
   "mimetype": "text/x-python",
   "name": "python",
   "nbconvert_exporter": "python",
   "pygments_lexer": "ipython3",
   "version": "3.10.8"
  }
 },
 "nbformat": 4,
 "nbformat_minor": 5
}
